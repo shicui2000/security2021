{
  "nbformat": 4,
  "nbformat_minor": 0,
  "metadata": {
    "colab": {
      "name": "test1_Untitled0.ipynb",
      "provenance": [],
      "collapsed_sections": [],
      "authorship_tag": "ABX9TyN7cDV3gnllvYYNcdv0CyE3",
      "include_colab_link": true
    },
    "kernelspec": {
      "name": "python3",
      "display_name": "Python 3"
    },
    "language_info": {
      "name": "python"
    }
  },
  "cells": [
    {
      "cell_type": "markdown",
      "metadata": {
        "id": "view-in-github",
        "colab_type": "text"
      },
      "source": [
        "<a href=\"https://colab.research.google.com/github/shicui2000/security2021/blob/main/test1_Untitled0.ipynb\" target=\"_parent\"><img src=\"https://colab.research.google.com/assets/colab-badge.svg\" alt=\"Open In Colab\"/></a>"
      ]
    },
    {
      "cell_type": "code",
      "metadata": {
        "id": "FY4H1lHjVQYK"
      },
      "source": [
        ""
      ],
      "execution_count": null,
      "outputs": []
    },
    {
      "cell_type": "code",
      "metadata": {
        "colab": {
          "base_uri": "https://localhost:8080/"
        },
        "id": "v_SkMAKnU279",
        "outputId": "00492362-ef85-4360-a35e-98ee22a3b59e"
      },
      "source": [
        "#!/urs/bin/python3\n",
        "a=[\"python\",\"True\",\"1234\"]\n",
        "print(type(a))"
      ],
      "execution_count": 12,
      "outputs": [
        {
          "output_type": "stream",
          "text": [
            "<class 'list'>\n"
          ],
          "name": "stdout"
        }
      ]
    },
    {
      "cell_type": "code",
      "metadata": {
        "colab": {
          "base_uri": "https://localhost:8080/"
        },
        "id": "atzxJElSVp45",
        "outputId": "2378aa96-f089-42c1-e784-ce0fcc0ca996"
      },
      "source": [
        "print(\"Hello,Python!\")"
      ],
      "execution_count": 5,
      "outputs": [
        {
          "output_type": "stream",
          "text": [
            "Hello,Python!\n"
          ],
          "name": "stdout"
        }
      ]
    },
    {
      "cell_type": "code",
      "metadata": {
        "colab": {
          "base_uri": "https://localhost:8080/"
        },
        "id": "d57jmjGoZ0br",
        "outputId": "2c2a567c-7727-4171-da96-ca382feb33bd"
      },
      "source": [
        "y=65535\n",
        "print(int(y))"
      ],
      "execution_count": 7,
      "outputs": [
        {
          "output_type": "stream",
          "text": [
            "65535\n"
          ],
          "name": "stdout"
        }
      ]
    },
    {
      "cell_type": "code",
      "metadata": {
        "colab": {
          "base_uri": "https://localhost:8080/"
        },
        "id": "Ec-B1n9nbNdD",
        "outputId": "afc040a5-e163-4de7-a95b-3ca13687ba9c"
      },
      "source": [
        "string1 = \"Hello,Python!\"\n",
        "print(len(string1))"
      ],
      "execution_count": 8,
      "outputs": [
        {
          "output_type": "stream",
          "text": [
            "13\n"
          ],
          "name": "stdout"
        }
      ]
    },
    {
      "cell_type": "code",
      "metadata": {
        "colab": {
          "base_uri": "https://localhost:8080/"
        },
        "id": "kEFZMf8obib6",
        "outputId": "82e46659-d6b7-4820-e8fd-3b952310d170"
      },
      "source": [
        "#!/urs/bin/python3\n",
        "print(100<200)"
      ],
      "execution_count": 9,
      "outputs": [
        {
          "output_type": "stream",
          "text": [
            "True\n"
          ],
          "name": "stdout"
        }
      ]
    },
    {
      "cell_type": "code",
      "metadata": {
        "colab": {
          "base_uri": "https://localhost:8080/"
        },
        "id": "NWCeXq8scB-a",
        "outputId": "c348cc1d-5ff1-4be2-9002-736c42aed764"
      },
      "source": [
        "#!/urs/bin/python3\n",
        "a = bool(100)\n",
        "print(a)"
      ],
      "execution_count": 10,
      "outputs": [
        {
          "output_type": "stream",
          "text": [
            "True\n"
          ],
          "name": "stdout"
        }
      ]
    },
    {
      "cell_type": "code",
      "metadata": {
        "id": "k1iYo-g0caPc"
      },
      "source": [
        "#!/urs/bin/python3\n",
        "(1)school=\"(2)ksu\""
      ],
      "execution_count": null,
      "outputs": []
    },
    {
      "cell_type": "code",
      "metadata": {
        "colab": {
          "base_uri": "https://localhost:8080/"
        },
        "id": "KnWmAmcUd5Ij",
        "outputId": "03ae9073-f313-4110-d47f-02f40e9ddbe2"
      },
      "source": [
        "#!/urs/bin/python3\n",
        "a = {\"name\":\"Eric\",\"age\":90}\n",
        "print(type(a))"
      ],
      "execution_count": 15,
      "outputs": [
        {
          "output_type": "stream",
          "text": [
            "<class 'dict'>\n"
          ],
          "name": "stdout"
        }
      ]
    },
    {
      "cell_type": "code",
      "metadata": {
        "colab": {
          "base_uri": "https://localhost:8080/"
        },
        "id": "SvNDpCNqeQUz",
        "outputId": "3a9cf7ba-07e2-4dd1-ccad-c0062e32a973"
      },
      "source": [
        "#!/urs/bin/python3\n",
        "a = \"Hello Python\"\n",
        "print(a)"
      ],
      "execution_count": 18,
      "outputs": [
        {
          "output_type": "stream",
          "text": [
            "Hello Python\n"
          ],
          "name": "stdout"
        }
      ]
    },
    {
      "cell_type": "code",
      "metadata": {
        "colab": {
          "base_uri": "https://localhost:8080/"
        },
        "id": "TKUBJJZGel5b",
        "outputId": "7fbc5e38-bc51-42f6-8a34-4a61d425a503"
      },
      "source": [
        "#!/urs/bin/python3\n",
        "a = \"Hello,World!\"\n",
        "print(a[2:5])"
      ],
      "execution_count": 21,
      "outputs": [
        {
          "output_type": "stream",
          "text": [
            "llo\n"
          ],
          "name": "stdout"
        }
      ]
    },
    {
      "cell_type": "code",
      "metadata": {
        "colab": {
          "base_uri": "https://localhost:8080/"
        },
        "id": "ikF9DEj-fNK7",
        "outputId": "176f12f6-4388-4c90-958c-d91c16eec2e6"
      },
      "source": [
        "#!/urs/bin/python3\n",
        "a=\"HelloPython HelloPython\"\n",
        "print(a.strip())"
      ],
      "execution_count": 23,
      "outputs": [
        {
          "output_type": "stream",
          "text": [
            "HelloPython HelloPython\n"
          ],
          "name": "stdout"
        }
      ]
    },
    {
      "cell_type": "code",
      "metadata": {
        "colab": {
          "base_uri": "https://localhost:8080/",
          "height": 199
        },
        "id": "AOLGx8Z6f3mL",
        "outputId": "6bbf12df-51a4-4f74-9284-e2d171fc00e0"
      },
      "source": [
        "#!/urs/bin/python3\n",
        "a=\"Kun Shan\"\n",
        "b=100\n",
        "print(a+b)"
      ],
      "execution_count": 26,
      "outputs": [
        {
          "output_type": "error",
          "ename": "NameError",
          "evalue": "ignored",
          "traceback": [
            "\u001b[0;31m---------------------------------------------------------------------------\u001b[0m",
            "\u001b[0;31mNameError\u001b[0m                                 Traceback (most recent call last)",
            "\u001b[0;32m<ipython-input-26-c32250d01f2e>\u001b[0m in \u001b[0;36m<module>\u001b[0;34m()\u001b[0m\n\u001b[1;32m      2\u001b[0m \u001b[0ma\u001b[0m\u001b[0;34m=\u001b[0m\u001b[0;34m\"Kun Shan\"\u001b[0m\u001b[0;34m\u001b[0m\u001b[0;34m\u001b[0m\u001b[0m\n\u001b[1;32m      3\u001b[0m \u001b[0mb\u001b[0m\u001b[0;34m=\u001b[0m\u001b[0;36m100\u001b[0m\u001b[0;34m\u001b[0m\u001b[0;34m\u001b[0m\u001b[0m\n\u001b[0;32m----> 4\u001b[0;31m \u001b[0mYypeError\u001b[0m\u001b[0;34m(\u001b[0m\u001b[0ma\u001b[0m\u001b[0;34m+\u001b[0m\u001b[0mb\u001b[0m\u001b[0;34m)\u001b[0m\u001b[0;34m\u001b[0m\u001b[0;34m\u001b[0m\u001b[0m\n\u001b[0m",
            "\u001b[0;31mNameError\u001b[0m: name 'YypeError' is not defined"
          ]
        }
      ]
    },
    {
      "cell_type": "code",
      "metadata": {
        "colab": {
          "base_uri": "https://localhost:8080/"
        },
        "id": "N1l-5wAXh_W1",
        "outputId": "42f773fd-31b5-46d8-d1f4-f962e80706f3"
      },
      "source": [
        "#!/urs/bin/python3\n",
        "a = '{1}Kun Shan{0}'\n",
        "b = 'University'\n",
        "print(a.format(b,'Hello'))"
      ],
      "execution_count": 27,
      "outputs": [
        {
          "output_type": "stream",
          "text": [
            "HelloKun ShanUniversity\n"
          ],
          "name": "stdout"
        }
      ]
    },
    {
      "cell_type": "code",
      "metadata": {
        "colab": {
          "base_uri": "https://localhost:8080/"
        },
        "id": "HUEM2r0aioh1",
        "outputId": "3a0871f5-6b12-4d63-8b24-c798bb985fc8"
      },
      "source": [
        "#!/urs/bin/python3\n",
        "a = \"Kun shan\"\n",
        "print(len(a))"
      ],
      "execution_count": 33,
      "outputs": [
        {
          "output_type": "stream",
          "text": [
            "8\n"
          ],
          "name": "stdout"
        }
      ]
    },
    {
      "cell_type": "code",
      "metadata": {
        "colab": {
          "base_uri": "https://localhost:8080/"
        },
        "id": "RzA33Rp3jqXE",
        "outputId": "763e1208-a94b-4bbc-d8dc-647e1c07d6c1"
      },
      "source": [
        "#!/urs/bin/python3\n",
        "a = \"Python\"\n",
        "print(a.lower())"
      ],
      "execution_count": 40,
      "outputs": [
        {
          "output_type": "stream",
          "text": [
            "python\n"
          ],
          "name": "stdout"
        }
      ]
    }
  ]
}