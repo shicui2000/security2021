{
  "nbformat": 4,
  "nbformat_minor": 0,
  "metadata": {
    "kernelspec": {
      "display_name": "Python 3",
      "language": "python",
      "name": "python3"
    },
    "language_info": {
      "codemirror_mode": {
        "name": "ipython",
        "version": 3
      },
      "file_extension": ".py",
      "mimetype": "text/x-python",
      "name": "python",
      "nbconvert_exporter": "python",
      "pygments_lexer": "ipython3",
      "version": "3.7.3"
    },
    "colab": {
      "name": "4070E114_Activity02.ipynb",
      "provenance": [],
      "collapsed_sections": [],
      "include_colab_link": true
    }
  },
  "cells": [
    {
      "cell_type": "markdown",
      "metadata": {
        "id": "view-in-github",
        "colab_type": "text"
      },
      "source": [
        "<a href=\"https://colab.research.google.com/github/shicui2000/security2021/blob/main/4070E114_Activity02.ipynb\" target=\"_parent\"><img src=\"https://colab.research.google.com/assets/colab-badge.svg\" alt=\"Open In Colab\"/></a>"
      ]
    },
    {
      "cell_type": "markdown",
      "metadata": {
        "id": "u2QTh3aOE03D"
      },
      "source": [
        "#2021/03/12\r\n",
        "\r\n",
        "baitap2"
      ]
    },
    {
      "cell_type": "code",
      "metadata": {
        "id": "sj2bJN_eAFXa",
        "outputId": "5ce7080f-ce25-44ba-a877-f5536c447c7a"
      },
      "source": [
        "\"\"\"\n",
        "This document determines the Pythagorean Distance\n",
        "between three given points\n",
        "\"\"\""
      ],
      "execution_count": null,
      "outputs": [
        {
          "output_type": "execute_result",
          "data": {
            "text/plain": [
              "'\\nThis document determines the Pythagorean Distance\\nbetween three given points\\n'"
            ]
          },
          "metadata": {
            "tags": []
          },
          "execution_count": 1
        }
      ]
    },
    {
      "cell_type": "code",
      "metadata": {
        "id": "EluNmCziAFXc"
      },
      "source": [
        "# Initialize variables\n",
        "x, y, z = 2, 3, 4"
      ],
      "execution_count": 3,
      "outputs": []
    },
    {
      "cell_type": "code",
      "metadata": {
        "id": "Rs9JExGuAFXc"
      },
      "source": [
        "# Pythagorean Theorem in 3 dimensions\n",
        "w_squared = x**2 + y**2 + z**2"
      ],
      "execution_count": 4,
      "outputs": []
    },
    {
      "cell_type": "code",
      "metadata": {
        "colab": {
          "base_uri": "https://localhost:8080/"
        },
        "id": "aMQFgIk6Egbt",
        "outputId": "50e10b54-e762-4956-f616-2a71b1a90e1c"
      },
      "source": [
        "w_squared"
      ],
      "execution_count": 5,
      "outputs": [
        {
          "output_type": "execute_result",
          "data": {
            "text/plain": [
              "29"
            ]
          },
          "metadata": {
            "tags": []
          },
          "execution_count": 5
        }
      ]
    },
    {
      "cell_type": "code",
      "metadata": {
        "id": "37K1vbXCAFXc"
      },
      "source": [
        "# The square root gives the distance\n",
        "w = w_squared ** 0.5"
      ],
      "execution_count": 6,
      "outputs": []
    },
    {
      "cell_type": "code",
      "metadata": {
        "id": "5udgfEpTAFXd",
        "outputId": "67d86bd8-25bc-453c-84a4-924db8f06763"
      },
      "source": [
        "#Show the distance\n",
        "w   "
      ],
      "execution_count": null,
      "outputs": [
        {
          "output_type": "execute_result",
          "data": {
            "text/plain": [
              "5.385164807134504"
            ]
          },
          "metadata": {
            "tags": []
          },
          "execution_count": 6
        }
      ]
    },
    {
      "cell_type": "code",
      "metadata": {
        "id": "7Gh9rWXpAFXd"
      },
      "source": [
        ""
      ],
      "execution_count": null,
      "outputs": []
    }
  ]
}