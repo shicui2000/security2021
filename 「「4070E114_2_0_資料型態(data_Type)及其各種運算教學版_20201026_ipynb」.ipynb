{
  "nbformat": 4,
  "nbformat_minor": 0,
  "metadata": {
    "colab": {
      "name": "「「4070E114_2_0_資料型態(data_Type)及其各種運算教學版_20201026.ipynb」",
      "provenance": [],
      "collapsed_sections": [],
      "include_colab_link": true
    },
    "kernelspec": {
      "name": "python3",
      "display_name": "Python 3"
    }
  },
  "cells": [
    {
      "cell_type": "markdown",
      "metadata": {
        "id": "view-in-github",
        "colab_type": "text"
      },
      "source": [
        "<a href=\"https://colab.research.google.com/github/shicui2000/security2021/blob/main/%E3%80%8C%E3%80%8C4070E114_2_0_%E8%B3%87%E6%96%99%E5%9E%8B%E6%85%8B(data_Type)%E5%8F%8A%E5%85%B6%E5%90%84%E7%A8%AE%E9%81%8B%E7%AE%97%E6%95%99%E5%AD%B8%E7%89%88_20201026_ipynb%E3%80%8D.ipynb\" target=\"_parent\"><img src=\"https://colab.research.google.com/assets/colab-badge.svg\" alt=\"Open In Colab\"/></a>"
      ]
    },
    {
      "cell_type": "markdown",
      "metadata": {
        "id": "bMV4OKWxD5qO"
      },
      "source": [
        "# Python有眾多資料型態(data Type)及其各種運算\n",
        "```\n",
        "    >* 數值(Numeric)資料及其運算\n",
        "    >* 字串(string)及其運算\n",
        "    >* 列表(list)資料及其運算\n",
        "    >* 字典(dict)資料及其運算  \n",
        "    >*[自我練習]tuple資料及其運算  \n",
        "    >*[自我練習]set資料及其運算  \n",
        "```\n",
        "```\n",
        " 本課程規劃讓同學快速掌握python程式的開發技術\n",
        " 還有更多技術及細節 請務必閱讀更多教材深入\n",
        "```\n",
        "\n",
        "# 資料型態(Data Type)學習重點:\n",
        "```\n",
        "各種運算\n",
        "各種內建函數\n",
        "型態轉換\n",
        "運算優先順序\n",
        "```\n",
        "\n",
        "[進階範例]底下程式執行後結果為何?\n",
        "```\n",
        "from queue import Queue\n",
        "q = Queue()\n",
        "q.put(1)\n",
        "q.put(2)\n",
        "q.put(3)\n",
        "q\n",
        "print(q.queue)\n",
        "\n",
        "q.get()\n",
        " ```"
      ]
    },
    {
      "cell_type": "code",
      "metadata": {
        "id": "LUjI89t5ZkMP"
      },
      "source": [
        ""
      ],
      "execution_count": null,
      "outputs": []
    },
    {
      "cell_type": "code",
      "metadata": {
        "id": "QP_ySkyOWZ-d",
        "colab": {
          "base_uri": "https://localhost:8080/",
          "height": 34
        },
        "outputId": "7321fc44-cd87-407e-926b-1887ad33b198"
      },
      "source": [
        "from queue import Queue\n",
        "q = Queue()\n",
        "q.put(1)\n",
        "q.put(2)\n",
        "q.put(3)\n",
        "q\n",
        "print(q.queue)"
      ],
      "execution_count": null,
      "outputs": [
        {
          "output_type": "stream",
          "text": [
            "deque([1, 2, 3])\n"
          ],
          "name": "stdout"
        }
      ]
    },
    {
      "cell_type": "markdown",
      "metadata": {
        "id": "SH2nCJ6iE77w"
      },
      "source": [
        "# 快速入門 \n",
        "\n",
        "# [1]數值(Numeric)資料及其運算\n",
        "```\n",
        "Python 支持三種不同的數值型別(Data Type)：\n",
        "\n",
        "[1]Int 整數，是可以是正或負整數，不帶小數點。\n",
        "   Python3  int是沒有限制大小的，可以當作 Long 類型使用，所以 Python3 沒有 Python2 的 Long 類型。\n",
        "\n",
        "[2]浮點數(float) :由整數部分與小數部分組成，浮點型也可以使用科學計數法表示（2.5e2 = 2.5 x 10 0 = 250）\n",
        "\n",
        "[3]複數( (complex)) - 複數由實數部分和虛數部分構成，可以用a + bj,或者complex(a,b)表示， 複數的實部a和虛部b都是浮點型。\n",
        "\n",
        "https://www.w3schools.com/python/python_exercises.asp\n",
        "```"
      ]
    },
    {
      "cell_type": "markdown",
      "metadata": {
        "id": "KYaeiEBVPr-e"
      },
      "source": [
        "[實作練習]底下程式執行後結果為何?\n",
        "```\n",
        "a = 17 / 3\n",
        "b = 17 // 3\n",
        "c = 17 % 3\n",
        "\n",
        "a,b,c\n",
        "```"
      ]
    },
    {
      "cell_type": "code",
      "metadata": {
        "id": "jzYTvXwKW2BU",
        "colab": {
          "base_uri": "https://localhost:8080/",
          "height": 34
        },
        "outputId": "ce97444f-df8d-4b53-d5c5-a33a8782af3e"
      },
      "source": [
        "a = 17 / 3\n",
        "b = 17 // 3\n",
        "c = 17 % 3\n",
        " \n",
        "a,b,c"
      ],
      "execution_count": null,
      "outputs": [
        {
          "output_type": "execute_result",
          "data": {
            "text/plain": [
              "(5.666666666666667, 5, 2)"
            ]
          },
          "metadata": {
            "tags": []
          },
          "execution_count": 2
        }
      ]
    },
    {
      "cell_type": "code",
      "metadata": {
        "id": "pYaoh_JRW--u",
        "colab": {
          "base_uri": "https://localhost:8080/",
          "height": 34
        },
        "outputId": "255765eb-cd6a-4757-d35b-7867755136b0"
      },
      "source": [
        "-3 % 2"
      ],
      "execution_count": null,
      "outputs": [
        {
          "output_type": "execute_result",
          "data": {
            "text/plain": [
              "1"
            ]
          },
          "metadata": {
            "tags": []
          },
          "execution_count": 3
        }
      ]
    },
    {
      "cell_type": "code",
      "metadata": {
        "id": "drxtbP2lXlWM",
        "colab": {
          "base_uri": "https://localhost:8080/",
          "height": 34
        },
        "outputId": "53c44b8a-b81c-48a8-d9e9-15f98b27d29c"
      },
      "source": [
        "abs(3+4j)"
      ],
      "execution_count": null,
      "outputs": [
        {
          "output_type": "execute_result",
          "data": {
            "text/plain": [
              "5.0"
            ]
          },
          "metadata": {
            "tags": []
          },
          "execution_count": 4
        }
      ]
    },
    {
      "cell_type": "markdown",
      "metadata": {
        "id": "e1VVU1VQFBGz"
      },
      "source": [
        "# [2]字串(string)及其運算\n",
        "\n",
        "```\n",
        "字串(string)\n",
        "變數值以一對雙引號 (「\"」)或單引號 (「'」)\n",
        "存取字串中的值: 使用方括號\n",
        "```\n"
      ]
    },
    {
      "cell_type": "markdown",
      "metadata": {
        "id": "zxRwLkAWP_3o"
      },
      "source": [
        "[實作練習]底下程式執行後結果為何?\n",
        "```\n",
        "var1 = 'Hello Python!'\n",
        " \n",
        "print(\"var1[0]: \", var1[0])\n",
        "print(\"var1[1:8]: \", var1[1:8])\n",
        "```\n"
      ]
    },
    {
      "cell_type": "code",
      "metadata": {
        "id": "pYwWuslYX722",
        "colab": {
          "base_uri": "https://localhost:8080/",
          "height": 51
        },
        "outputId": "84c45d5e-1976-4143-fe79-e84910ff62bc"
      },
      "source": [
        "var1 = 'Hello Python!'\n",
        " \n",
        "print(\"var1[0]: \", var1[0])\n",
        "print(\"var1[1:8]: \", var1[1:8])"
      ],
      "execution_count": null,
      "outputs": [
        {
          "output_type": "stream",
          "text": [
            "var1[0]:  H\n",
            "var1[1:8]:  ello Py\n"
          ],
          "name": "stdout"
        }
      ]
    },
    {
      "cell_type": "markdown",
      "metadata": {
        "id": "sBrU19ZdQRab"
      },
      "source": [
        "[實作練習] 填入程式使輸出為 Hello World!\n",
        "```\n",
        "var1 = 'Hello Python!'\n",
        "\n",
        "print(var1[:____]+\"World!\"+\"恩師最偉大\")\n",
        "```"
      ]
    },
    {
      "cell_type": "code",
      "metadata": {
        "id": "Pts9xb8nanY5",
        "colab": {
          "base_uri": "https://localhost:8080/",
          "height": 34
        },
        "outputId": "14b51f28-f1ef-4c1d-ef63-a6e71a1bc9f7"
      },
      "source": [
        "var1 = 'Hello Python!'\n",
        "\n",
        "print(var1[:6]+\"World!\"+\"恩師最偉大\")"
      ],
      "execution_count": null,
      "outputs": [
        {
          "output_type": "stream",
          "text": [
            "Hello World!恩師最偉大\n"
          ],
          "name": "stdout"
        }
      ]
    },
    {
      "cell_type": "markdown",
      "metadata": {
        "id": "F2m02SCgFEv1"
      },
      "source": [
        "# [3]列表(list)資料及其運算\n",
        "```\n",
        "LIST是 Python 中最基本的資料結構。\n",
        "LIST使用一個方括號內的逗號分隔值出現。\n",
        "\n",
        "LIST的每個值都有對應的位置，稱之為索引( index)，\n",
        "第一個索引是 0，第二個索引是 1，依此類推。\n",
        "\n",
        "LIST都可以進行的操作包括索引，切片，加，乘，檢查成員。\n",
        "\n",
        "Python 內建許多函數: \n",
        "1.len(list):元素個數\n",
        "2.max(list)返回元素最大值\n",
        "3.min(list):返回元素最小值\n",
        "```"
      ]
    },
    {
      "cell_type": "markdown",
      "metadata": {
        "id": "OxKYbWhCSOf3"
      },
      "source": [
        "\n",
        "\n",
        "底下程式執行後結果為何?\n",
        "```\n",
        "list1 = [21, 33, 14, 12, 32, 98]\n",
        "\n",
        "list1[1]\n",
        "```"
      ]
    },
    {
      "cell_type": "code",
      "metadata": {
        "id": "h7V49ibgYL8d",
        "colab": {
          "base_uri": "https://localhost:8080/",
          "height": 34
        },
        "outputId": "a2bcd738-c46a-4435-bbd1-d042d80d991c"
      },
      "source": [
        "list1 = [21, 33, 14, 12, 32, 98]\n",
        " \n",
        "list1[1]"
      ],
      "execution_count": null,
      "outputs": [
        {
          "output_type": "execute_result",
          "data": {
            "text/plain": [
              "33"
            ]
          },
          "metadata": {
            "tags": []
          },
          "execution_count": 6
        }
      ]
    },
    {
      "cell_type": "markdown",
      "metadata": {
        "id": "bCb5CGP5SdK4"
      },
      "source": [
        "底下程式執行後結果為何?\n",
        "```\n",
        "list1 = [21, 33, 14, 12, 32, 98]\n",
        "\n",
        "list1[-2]\n",
        "```"
      ]
    },
    {
      "cell_type": "code",
      "metadata": {
        "id": "7y5mn1U8YQp0",
        "colab": {
          "base_uri": "https://localhost:8080/",
          "height": 34
        },
        "outputId": "09082c49-2895-4d3b-eb15-5e75845256a2"
      },
      "source": [
        "list1 = [21, 33, 14, 12, 32, 98]\n",
        " \n",
        "list1[-2]"
      ],
      "execution_count": null,
      "outputs": [
        {
          "output_type": "execute_result",
          "data": {
            "text/plain": [
              "32"
            ]
          },
          "metadata": {
            "tags": []
          },
          "execution_count": 7
        }
      ]
    },
    {
      "cell_type": "markdown",
      "metadata": {
        "id": "tdFebTXVF3ag"
      },
      "source": [
        "底下程式執行後結果為何?\n",
        "```\n",
        "len(list1)\n",
        "```"
      ]
    },
    {
      "cell_type": "code",
      "metadata": {
        "id": "rRmM1HwGYTZf",
        "colab": {
          "base_uri": "https://localhost:8080/",
          "height": 34
        },
        "outputId": "818acc74-601a-48f5-8f00-f17da6830dea"
      },
      "source": [
        "len(list1)"
      ],
      "execution_count": null,
      "outputs": [
        {
          "output_type": "execute_result",
          "data": {
            "text/plain": [
              "6"
            ]
          },
          "metadata": {
            "tags": []
          },
          "execution_count": 8
        }
      ]
    },
    {
      "cell_type": "markdown",
      "metadata": {
        "id": "8yu5XNgqF5Nm"
      },
      "source": [
        "底下程式執行後結果為何?\n",
        "```\n",
        "max(list1)\n",
        "```"
      ]
    },
    {
      "cell_type": "code",
      "metadata": {
        "id": "c-KbdJShYYMz",
        "colab": {
          "base_uri": "https://localhost:8080/",
          "height": 34
        },
        "outputId": "30d1bab8-829e-4c32-dabd-4c8c7752b3bf"
      },
      "source": [
        "max(list1)"
      ],
      "execution_count": null,
      "outputs": [
        {
          "output_type": "execute_result",
          "data": {
            "text/plain": [
              "98"
            ]
          },
          "metadata": {
            "tags": []
          },
          "execution_count": 9
        }
      ]
    },
    {
      "cell_type": "markdown",
      "metadata": {
        "id": "QyWB_6d4GE8u"
      },
      "source": [
        "底下程式執行後結果為何?\n",
        "```\n",
        "min(list1)\n",
        "```"
      ]
    },
    {
      "cell_type": "markdown",
      "metadata": {
        "id": "8rNiPGNwGHjg"
      },
      "source": [
        "底下程式執行後結果為何?\n",
        "```\n",
        "sum(list1)\n",
        "```"
      ]
    },
    {
      "cell_type": "markdown",
      "metadata": {
        "id": "qFy2Obj5FIwL"
      },
      "source": [
        "# [4]字典(dict)資料及其運算 \n",
        "```\n",
        "字典的每筆資料都使用key(鍵)=>value(值) pair(對)\n",
        "每筆資料都使用冒號 : 分割\n",
        "每對之間用逗號(,)分割，\n",
        "整個字典包括在花括弧 {} \n",
        "\n",
        "key(鍵)必須是唯一的，但value(值)則不必。\n",
        "\n",
        "Python 內建許多函數: \n",
        "\tlen(dict):計算字典元素個數，即鍵的總數。\n",
        "\n",
        "\n",
        "Python 內建許多方法(Method):\n",
        "字典.items():以列表返回LIST陣列\n",
        "字典.keys():返回所有keys\n",
        "字典.values():返回所有values\n",
        "```"
      ]
    },
    {
      "cell_type": "markdown",
      "metadata": {
        "id": "gSGyRBWTUDmC"
      },
      "source": [
        "底下程式執行後結果為何?\n",
        "``` \n",
        "dict = {'Name': 'DaDaLong', 'Age': 17, 'Class': 'First'}\n",
        " \n",
        "print(\"dict['Name']: \", dict['Name'])\n",
        "print(\"dict['Age']: \", dict['Age'])\n",
        "```"
      ]
    },
    {
      "cell_type": "markdown",
      "metadata": {
        "id": "J6l_D0CeVf10"
      },
      "source": [
        "底下程式執行後結果為何?\n",
        "```\n",
        "dict = {'Name': 'DaDaLong', 'Age': 17, 'Class': 'First'}\n",
        "dict.items()\n",
        "```"
      ]
    },
    {
      "cell_type": "markdown",
      "metadata": {
        "id": "8pqofW6sVMmb"
      },
      "source": [
        "[程式比較]和上述程式輸出有何不同?\n",
        "```\n",
        "dict = {'Name': 'DaDaLong', 'Age': 17, 'Class': 'First'}\n",
        "list(dict.items())\n",
        "```"
      ]
    },
    {
      "cell_type": "markdown",
      "metadata": {
        "id": "RoQqsuycVZY5"
      },
      "source": [
        "\n",
        "```\n",
        "dict = {'Name': 'DaDaLong', 'Age': 17, 'Class': 'First'}\n",
        "list(dict.keys())\n",
        "```"
      ]
    }
  ]
}