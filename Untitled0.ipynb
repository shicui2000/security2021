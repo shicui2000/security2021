{
  "nbformat": 4,
  "nbformat_minor": 0,
  "metadata": {
    "colab": {
      "name": "Untitled0.ipynb",
      "provenance": [],
      "collapsed_sections": [],
      "authorship_tag": "ABX9TyP20m4m8KYt/Y0a0rSe/19J",
      "include_colab_link": true
    },
    "kernelspec": {
      "name": "python3",
      "display_name": "Python 3"
    },
    "language_info": {
      "name": "python"
    }
  },
  "cells": [
    {
      "cell_type": "markdown",
      "metadata": {
        "id": "view-in-github",
        "colab_type": "text"
      },
      "source": [
        "<a href=\"https://colab.research.google.com/github/shicui2000/security2021/blob/main/Untitled0.ipynb\" target=\"_parent\"><img src=\"https://colab.research.google.com/assets/colab-badge.svg\" alt=\"Open In Colab\"/></a>"
      ]
    },
    {
      "cell_type": "markdown",
      "metadata": {
        "id": "ReDU8821A0PZ"
      },
      "source": [
        "20210326 作業"
      ]
    },
    {
      "cell_type": "markdown",
      "metadata": {
        "id": "ExMfFSlnBmK5"
      },
      "source": [
        "1.print(\"3*2*(17-2)\")會印出甚麼結果:\n",
        "(A)0   (B)90  (C)出現錯誤,無法印出  (D)3*2*(17-2)\n"
      ]
    },
    {
      "cell_type": "code",
      "metadata": {
        "colab": {
          "base_uri": "https://localhost:8080/"
        },
        "id": "VirXyXUtAzZb",
        "outputId": "913e1449-3964-49d0-aa7c-af616ceec592"
      },
      "source": [
        "print(\"3*2*(17-2)\")"
      ],
      "execution_count": 9,
      "outputs": [
        {
          "output_type": "stream",
          "text": [
            "3*2*(17-2)\n"
          ],
          "name": "stdout"
        }
      ]
    },
    {
      "cell_type": "markdown",
      "metadata": {
        "id": "BaJ1D5mIBtjy"
      },
      "source": [
        "2.print(3*2*(17-2))會印出甚麼結果:\n",
        "(A)0   (B)90  (C)出現錯誤,無法印出  (D)3*2*(17-2)"
      ]
    },
    {
      "cell_type": "code",
      "metadata": {
        "colab": {
          "base_uri": "https://localhost:8080/"
        },
        "id": "mTeHfbZPBxH3",
        "outputId": "121ac175-7650-4f14-ece6-6b1f84afaced"
      },
      "source": [
        "print(3*2*(17-2))"
      ],
      "execution_count": 10,
      "outputs": [
        {
          "output_type": "stream",
          "text": [
            "90\n"
          ],
          "name": "stdout"
        }
      ]
    },
    {
      "cell_type": "markdown",
      "metadata": {
        "id": "vj-XaNuQCWE_"
      },
      "source": [
        "3.print(\"abc\"\"+\"\"def\")會印出甚麼結果:\n",
        "(A)出現錯誤,無法印出   (B)abc+def  (C)abc\"\"+\"\"def  (D)abcdef"
      ]
    },
    {
      "cell_type": "code",
      "metadata": {
        "colab": {
          "base_uri": "https://localhost:8080/"
        },
        "id": "U_FwNaP3CnbR",
        "outputId": "19b8e711-ef9f-4ea3-abdd-310192b17cd0"
      },
      "source": [
        "print(\"abc\"\"+\"\"def\")"
      ],
      "execution_count": 11,
      "outputs": [
        {
          "output_type": "stream",
          "text": [
            "abc+def\n"
          ],
          "name": "stdout"
        }
      ]
    },
    {
      "cell_type": "markdown",
      "metadata": {
        "id": "ABu-4TIeCuOi"
      },
      "source": [
        "4.print(\"abc\"+\"def\")會印出甚麼結果:\n",
        "(A)出現錯誤,無法印出   (B)abc+def  (C)abc\"\"+\"\"def  (D)abcdef"
      ]
    },
    {
      "cell_type": "code",
      "metadata": {
        "colab": {
          "base_uri": "https://localhost:8080/"
        },
        "id": "cNZi1_1wCyiS",
        "outputId": "ed1282db-48bf-4b54-f4be-685ff5dc20de"
      },
      "source": [
        "print(\"abc\"+\"def\")"
      ],
      "execution_count": 12,
      "outputs": [
        {
          "output_type": "stream",
          "text": [
            "abcdef\n"
          ],
          "name": "stdout"
        }
      ]
    },
    {
      "cell_type": "markdown",
      "metadata": {
        "id": "3aD6YACrC6ux"
      },
      "source": [
        "5.底下程式執行後結果為何?\n",
        "word = \"arttarataaa\"\n",
        "print(word.replace(\"a\", \"z\",3))\n",
        "(A)出現錯誤,無法印出   (B)arttarataaa  (C)zrttzrztaaa (D)zrttzrztzzz\n"
      ]
    },
    {
      "cell_type": "code",
      "metadata": {
        "colab": {
          "base_uri": "https://localhost:8080/"
        },
        "id": "uerqXDKKC-P7",
        "outputId": "ca12de58-48c4-4a3d-b207-3f65df62bde2"
      },
      "source": [
        " word = \"arttarataaa\"\n",
        " print(word.replace(\"a\", \"z\",3))"
      ],
      "execution_count": 14,
      "outputs": [
        {
          "output_type": "stream",
          "text": [
            "zrttzrztaaa\n"
          ],
          "name": "stdout"
        }
      ]
    },
    {
      "cell_type": "markdown",
      "metadata": {
        "id": "i2FYILJDDPgK"
      },
      "source": [
        "6.底下程式執行後結果為何?\n",
        "word = \"arttarataaa\"\n",
        "print(word.replace(\"a\", \"z\"))\n",
        "(A)出現錯誤,無法印出   (B)arttarataaa  (C)zrttzrztaaa (D)zrttzrztzzz\n"
      ]
    },
    {
      "cell_type": "code",
      "metadata": {
        "colab": {
          "base_uri": "https://localhost:8080/"
        },
        "id": "0xgEVmvFDTc5",
        "outputId": "e2db4393-286d-4586-dac7-dc6d10dfa496"
      },
      "source": [
        "word = \"arttarataaa\"\n",
        "print(word.replace(\"a\", \"z\")) "
      ],
      "execution_count": 15,
      "outputs": [
        {
          "output_type": "stream",
          "text": [
            "zrttzrztzzz\n"
          ],
          "name": "stdout"
        }
      ]
    },
    {
      "cell_type": "markdown",
      "metadata": {
        "id": "C2ZEHk3cDct6"
      },
      "source": [
        ""
      ]
    }
  ]
}